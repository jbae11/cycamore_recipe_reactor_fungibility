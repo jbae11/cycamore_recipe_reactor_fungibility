{
 "cells": [
  {
   "cell_type": "markdown",
   "metadata": {
    "collapsed": false
   },
   "source": [
    "### Import Necessary Module"
   ]
  },
  {
   "cell_type": "code",
   "execution_count": 15,
   "metadata": {
    "collapsed": true
   },
   "outputs": [],
   "source": [
    "import sqlite3 as lite\n",
    "import os\n",
    "import sys"
   ]
  },
  {
   "cell_type": "markdown",
   "metadata": {},
   "source": [
    "# Recipe Reactor Recipe Fungibility (How Wrong for it to accept?)\n",
    "\n",
    "Test results show that the `Cycamore::Reactor` accepts fuel regardless of their recipe,\n",
    "given that the commodity name is the same.\n",
    "\n",
    "## Method\n",
    "\n",
    "Simulation is run for 120 timesteps, in which different sources provide\n",
    "the `Cycamore::Reactor` with commodity `fuel`. The different sources all send\n",
    "commodity `fuel`, but have different recipes. A source is deployed and exits\n",
    "after 20 timesteps, where the next source deploys.\n",
    "The `Cycamore::Reactor` 'fuel_inrecipes' value is `uox_recipe`, which is:\n",
    "U235 (4.5%)\n",
    "U238 (95.5%)\n",
    "\n",
    "The following are the `Cycamore::Source`\n",
    "used in the simulation and their 'fuel recipe':\n",
    "\n",
    "### 1. fuel_source (uox_recipe)  \n",
    "U235 (4.5%)  \n",
    "U238 (95.5%)  \n",
    "\n",
    "### 2. impurity_source (cox_recipe)  \n",
    "U235 (4.0%)  \n",
    "U238 (95.5%)  \n",
    "Pu239 (.5%)  \n",
    "\n",
    "### 3. impurity_source_two (cox_recipe_two)  \n",
    "U235 (4%)  \n",
    "U238 (95%)  \n",
    "Pu239 (.5%)  \n",
    "H1 (.5%)  \n",
    "\n",
    "### 4. impurity_source_three (cox_recipe_three - spent mox recipe)  \n",
    "mixture of:  \n",
    "U235, 236, 238  \n",
    "Np237  \n",
    "Pu 239, 239, 240, 241, 242  \n",
    "Am 241, 243  \n",
    "Cm 244, 245  \n",
    "\n",
    "### 5. impurity_source_four (cox_recipe_four)  \n",
    "H1 (100%)  \n",
    "\n",
    "### 6. control (uox_recipe)  \n",
    "BUT OUTCOMMOD = `not_fuel`  \n",
    "U235 (4.5%)  \n",
    "U238 (95.5%)  \n",
    "\n",
    "Results show that the `Cycamore::Reactor` accepts\n",
    "from all five sources, except for the control, which means that\n",
    "it does not differentiate between recipes, but only on the commodity name.\n",
    "\n",
    "\n",
    "\n",
    "\n"
   ]
  },
  {
   "cell_type": "markdown",
   "metadata": {},
   "source": [
    "## Run Cyclus Input file"
   ]
  },
  {
   "cell_type": "code",
   "execution_count": 16,
   "metadata": {
    "collapsed": false
   },
   "outputs": [
    {
     "name": "stdout",
     "output_type": "stream",
     "text": [
      "              :                                                               \n",
      "          .CL:CC CC             _Q     _Q  _Q_Q    _Q    _Q              _Q   \n",
      "        CC;CCCCCCCC:C;         /_\\)   /_\\)/_/\\\\)  /_\\)  /_\\)            /_\\)  \n",
      "        CCCCCCCCCCCCCl       __O|/O___O|/O_OO|/O__O|/O__O|/O____________O|/O__\n",
      "     CCCCCCf     iCCCLCC     /////////////////////////////////////////////////\n",
      "     iCCCt  ;;;;;.  CCCC                                                      \n",
      "    CCCC  ;;;;;;;;;. CClL.                          c                         \n",
      "   CCCC ,;;       ;;: CCCC  ;                   : CCCCi                       \n",
      "    CCC ;;         ;;  CC   ;;:                CCC`   `C;                     \n",
      "  lCCC ;;              CCCC  ;;;:             :CC .;;. C;   ;    :   ;  :;;   \n",
      "  CCCC ;.              CCCC    ;;;,           CC ;    ; Ci  ;    :   ;  :  ;  \n",
      "   iCC :;               CC       ;;;,        ;C ;       CC  ;    :   ; .      \n",
      "  CCCi ;;               CCC        ;;;.      .C ;       tf  ;    :   ;  ;.    \n",
      "  CCC  ;;               CCC          ;;;;;;; fC :       lC  ;    :   ;    ;:  \n",
      "   iCf ;;               CC         :;;:      tC ;       CC  ;    :   ;     ;  \n",
      "  fCCC :;              LCCf      ;;;:         LC :.  ,: C   ;    ;   ; ;   ;  \n",
      "  CCCC  ;;             CCCC    ;;;:           CCi `;;` CC.  ;;;; :;.;.  ; ,;  \n",
      "    CCl ;;             CC    ;;;;              CCC    CCL                     \n",
      "   tCCC  ;;        ;; CCCL  ;;;                  tCCCCC.                      \n",
      "    CCCC  ;;     :;; CCCCf  ;                     ,L                          \n",
      "     lCCC   ;;;;;;  CCCL                                                      \n",
      "     CCCCCC  :;;  fCCCCC                                                      \n",
      "      . CCCC     CCCC .                                                       \n",
      "       .CCCCCCCCCCCCCi                                                        \n",
      "          iCCCCCLCf                                                           \n",
      "           .  C. ,                                                            \n",
      "              :                                                               \n",
      "\n",
      "Status: Cyclus run successful!\n",
      "Output location: cyclus.sqlite\n",
      "Simulation ID: a420aaee-a253-4de3-9730-fb02838e6fa6\n"
     ]
    }
   ],
   "source": [
    "! rm cyclus.sqlite\n",
    "! cyclus trial.xml"
   ]
  },
  {
   "cell_type": "markdown",
   "metadata": {},
   "source": [
    "### The output file should be named \n",
    "         \n",
    "          cyclus.sqlite"
   ]
  },
  {
   "cell_type": "code",
   "execution_count": 17,
   "metadata": {
    "collapsed": false
   },
   "outputs": [
    {
     "name": "stdout",
     "output_type": "stream",
     "text": [
      "[('fuel_source', 'fuel', 19), ('impurity_source', 'fuel', 39), ('impurity_source_2', 'fuel', 59), ('impurity_source_3', 'fuel', 79), ('impurity_source_4', 'fuel', 99)]\n"
     ]
    }
   ],
   "source": [
    "# Notice Cycamore::Reactor Receives commodity fuel from all sources.\n",
    "\n",
    "con = lite.connect('cyclus.sqlite')\n",
    "with con:\n",
    "    cur = con.cursor()\n",
    "    \n",
    "    trade_ledger = cur.execute('SELECT prototype, commodity, time from transactions '\n",
    "                               'INNER JOIN resources '\n",
    "                               'ON resources.resourceid = transactions.resourceid '\n",
    "                               'INNER JOIN agententry '\n",
    "                               'ON senderid = agentid '\n",
    "                               'GROUP BY prototype').fetchall()\n",
    "    print(trade_ledger)"
   ]
  },
  {
   "cell_type": "code",
   "execution_count": 18,
   "metadata": {
    "collapsed": false
   },
   "outputs": [
    {
     "name": "stdout",
     "output_type": "stream",
     "text": [
      "[]\n"
     ]
    }
   ],
   "source": [
    "# Notice Cycamore::Reactor does not take from control source despite having same recipe.\n",
    "# Only thing that matters seems to be the commodity name\n",
    "\n",
    "con = lite.connect('cyclus.sqlite')\n",
    "with con:\n",
    "    cur = con.cursor()\n",
    "    control = cur.execute('SELECT * FROM transactions '\n",
    "                          'INNER JOIN agententry '\n",
    "                          'ON senderid = agentid '\n",
    "                          'WHERE prototype = \"control\"').fetchall()\n",
    "    print(control)"
   ]
  }
 ],
 "metadata": {
  "kernelspec": {
   "display_name": "Python 3",
   "language": "python",
   "name": "python3"
  },
  "language_info": {
   "codemirror_mode": {
    "name": "ipython",
    "version": 3
   },
   "file_extension": ".py",
   "mimetype": "text/x-python",
   "name": "python",
   "nbconvert_exporter": "python",
   "pygments_lexer": "ipython3",
   "version": "3.5.2"
  }
 },
 "nbformat": 4,
 "nbformat_minor": 2
}
